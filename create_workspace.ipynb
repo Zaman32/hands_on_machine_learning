{
 "cells": [
  {
   "cell_type": "markdown",
   "id": "0b79ab27",
   "metadata": {},
   "source": [
    "# Create python virtual environment"
   ]
  },
  {
   "cell_type": "code",
   "execution_count": null,
   "id": "0a00c286",
   "metadata": {},
   "outputs": [],
   "source": [
    "# Install latest pip \n",
    "!python -m pip --version\n",
    "!python -m pip install --user -U pip\n",
    "\n",
    "# Install virtualenv with pip\n",
    "!python -m pip install --user -U virtualenv\n",
    "!cd (workspace_directory)\n",
    "!python -m virtualenv my_env\n",
    "\n",
    "#Activate virtual environment of the workspace\n",
    "!.\\my_env\\Scripts\\activate\n",
    "\n",
    "#Install jupyter, matplotlib, numpy, pandas, scipy, scikit-learn package\n",
    "!python -m pip install -U jupyter matplotlib numpy pandas scipy scikit-learn\n",
    "\n",
    "# Register virtual environment to Jupyter \n",
    "!python -m ipykernel install --user --name=virtual_environment_name"
   ]
  }
 ],
 "metadata": {
  "kernelspec": {
   "display_name": "machine_learning",
   "language": "python",
   "name": "machine_learning"
  },
  "language_info": {
   "codemirror_mode": {
    "name": "ipython",
    "version": 3
   },
   "file_extension": ".py",
   "mimetype": "text/x-python",
   "name": "python",
   "nbconvert_exporter": "python",
   "pygments_lexer": "ipython3",
   "version": "3.9.9"
  }
 },
 "nbformat": 4,
 "nbformat_minor": 5
}
